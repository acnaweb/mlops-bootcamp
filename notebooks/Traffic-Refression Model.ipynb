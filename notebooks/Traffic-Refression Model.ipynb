{
 "cells": [
  {
   "cell_type": "code",
   "execution_count": null,
   "id": "04bf8681-e121-4b83-b031-0755c25eb2fd",
   "metadata": {},
   "outputs": [],
   "source": [
    "%%html\n",
    "\n",
    "<style> \n",
    "table { float:left; margin-bottom: 1em; } \n",
    "table + * { content: \"\"; clear: both; display: table; }\n",
    "</style>"
   ]
  },
  {
   "cell_type": "code",
   "execution_count": null,
   "id": "ab76b6e1-3965-42c3-b20e-792dbeffe97b",
   "metadata": {},
   "outputs": [],
   "source": [
    "#!pip install pycaret[analysis,parallel]"
   ]
  },
  {
   "cell_type": "code",
   "execution_count": null,
   "id": "1ca7bf74-1acc-4539-89db-adb99399f2be",
   "metadata": {},
   "outputs": [],
   "source": [
    "from pycaret.datasets import get_data\n",
    "data = get_data(dataset = \"traffic\")"
   ]
  },
  {
   "cell_type": "markdown",
   "id": "6d0a5256-315e-4d5e-8f97-198adf955648",
   "metadata": {},
   "source": [
    "### MLFlow"
   ]
  },
  {
   "cell_type": "code",
   "execution_count": null,
   "id": "e8dacbe9-f4a0-48df-898f-dbbfaa5a2713",
   "metadata": {},
   "outputs": [],
   "source": [
    "import mlflow\n",
    "mlflow.set_tracking_uri(\"http://localhost:5000\")"
   ]
  },
  {
   "cell_type": "markdown",
   "id": "dc0c3c97-ac79-442e-b368-55305ab824dd",
   "metadata": {},
   "source": [
    "### Preprocessing"
   ]
  },
  {
   "cell_type": "code",
   "execution_count": null,
   "id": "f4ea21d9-4ccf-42ba-8610-c952a50a1d59",
   "metadata": {},
   "outputs": [],
   "source": [
    "from pycaret.regression import *"
   ]
  },
  {
   "cell_type": "code",
   "execution_count": null,
   "id": "ce4ef793-0222-4d48-8997-1e27b8d0df27",
   "metadata": {},
   "outputs": [],
   "source": [
    "dataset = setup(data = data, \n",
    "                target = \"traffic_volume\", \n",
    "                session_id = 438,\n",
    "                verbose = True, \n",
    "                 use_gpu = True,                 \n",
    "                 log_experiment = True,\n",
    "                 log_plots = True,\n",
    "                 log_data = True,                 \n",
    "                 experiment_name = \"traffic\")"
   ]
  },
  {
   "cell_type": "code",
   "execution_count": null,
   "id": "fd2f736b-cb2e-4d7a-89a2-e34ec747aaec",
   "metadata": {},
   "outputs": [],
   "source": [
    "best = compare_models(exclude = [\"lightgbm\"])"
   ]
  },
  {
   "cell_type": "code",
   "execution_count": null,
   "id": "a0e7a1ea-9e58-471d-9dd3-2538cfc781cb",
   "metadata": {},
   "outputs": [],
   "source": [
    "best"
   ]
  },
  {
   "cell_type": "code",
   "execution_count": null,
   "id": "af513c78-74d6-4c6f-a99d-a2a5f03348d0",
   "metadata": {},
   "outputs": [],
   "source": [
    "tuned_best = tune_model(estimator = best)"
   ]
  },
  {
   "cell_type": "code",
   "execution_count": null,
   "id": "871b2bcc-6ae8-4e9e-93b3-754bdf50631a",
   "metadata": {},
   "outputs": [],
   "source": [
    "final_model = finalize_model(estimator = tuned_best)"
   ]
  },
  {
   "cell_type": "code",
   "execution_count": null,
   "id": "5b650439-884d-4faa-b52d-130135ef96ae",
   "metadata": {},
   "outputs": [],
   "source": [
    "model_output = \".././models/traffic-pipeline\"\n",
    "save_model(model = final_model, model_name = model_output)"
   ]
  },
  {
   "cell_type": "markdown",
   "id": "f472fc57-6081-448a-9d40-67f8c3e6c4be",
   "metadata": {},
   "source": [
    "### Production"
   ]
  },
  {
   "cell_type": "code",
   "execution_count": null,
   "id": "d0cee9c2-f1d2-450a-8f52-5c885da28904",
   "metadata": {},
   "outputs": [],
   "source": [
    "model = load_model(model_output)"
   ]
  },
  {
   "cell_type": "code",
   "execution_count": null,
   "id": "3394f126-c1c5-4542-b44d-abf9659dd4b1",
   "metadata": {},
   "outputs": [],
   "source": [
    "predictions = predict_model(model, data=data)"
   ]
  },
  {
   "cell_type": "code",
   "execution_count": null,
   "id": "382f4a73-64d6-4be7-a0d5-c9a8a49820f3",
   "metadata": {},
   "outputs": [],
   "source": [
    "predictions.head()"
   ]
  }
 ],
 "metadata": {
  "kernelspec": {
   "display_name": "Python 3 (ipykernel)",
   "language": "python",
   "name": "python3"
  },
  "language_info": {
   "codemirror_mode": {
    "name": "ipython",
    "version": 3
   },
   "file_extension": ".py",
   "mimetype": "text/x-python",
   "name": "python",
   "nbconvert_exporter": "python",
   "pygments_lexer": "ipython3",
   "version": "3.10.12"
  }
 },
 "nbformat": 4,
 "nbformat_minor": 5
}
