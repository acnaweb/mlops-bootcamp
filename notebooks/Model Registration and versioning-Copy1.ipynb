{
 "cells": [
  {
   "cell_type": "code",
   "execution_count": 1,
   "id": "fc6929f9-f89a-410d-bcb0-6df82e9dab8f",
   "metadata": {},
   "outputs": [],
   "source": [
    "import os\n",
    "import warnings\n",
    "import sys\n",
    "from datetime import datetime"
   ]
  },
  {
   "cell_type": "code",
   "execution_count": 2,
   "id": "c0f9b706-0bb8-40a0-8640-c7864a57eae0",
   "metadata": {},
   "outputs": [],
   "source": [
    "import pandas as pd\n",
    "import numpy as np"
   ]
  },
  {
   "cell_type": "code",
   "execution_count": 3,
   "id": "9010b1d4-be1b-4c6b-bca4-268e39ecc8b6",
   "metadata": {},
   "outputs": [],
   "source": [
    "from sklearn.metrics import mean_squared_error, mean_absolute_error, r2_score\n",
    "from sklearn.model_selection import train_test_split\n",
    "from sklearn.linear_model import ElasticNet"
   ]
  },
  {
   "cell_type": "code",
   "execution_count": 4,
   "id": "dd24219f-f505-485e-a993-4733d8e1bd4f",
   "metadata": {},
   "outputs": [],
   "source": [
    "from urllib.parse import urlparse"
   ]
  },
  {
   "cell_type": "code",
   "execution_count": 5,
   "id": "a34d72f2-a0df-427d-bbc8-a5c7372f9db5",
   "metadata": {},
   "outputs": [],
   "source": [
    "import mlflow\n",
    "import mlflow.sklearn"
   ]
  },
  {
   "cell_type": "code",
   "execution_count": 6,
   "id": "a87834b1-616f-4c12-99ad-acf118836b59",
   "metadata": {},
   "outputs": [],
   "source": [
    "import logging\n",
    "logging.basicConfig(level=logging.WARN)\n",
    "logger = logging.getLogger(__name__)"
   ]
  },
  {
   "cell_type": "code",
   "execution_count": 7,
   "id": "1bc514bb-abfd-4ca3-9c94-e387daaa3f5f",
   "metadata": {},
   "outputs": [],
   "source": [
    "def eval_metrics(actual, pred):\n",
    "    rmse = np.sqrt(mean_squared_error(actual, pred))\n",
    "    mae = mean_absolute_error(actual, pred)\n",
    "    r2 = r2_score(actual, pred)\n",
    "\n",
    "    # Log a metric; metrics can be updated throughout the run\n",
    "    mlflow.log_metric(\"rmse\", rmse)\n",
    "    mlflow.log_metric(\"mae\", mae)\n",
    "    mlflow.log_metric(\"r2\", r2)\n",
    "\n",
    "    print(\"RMSE {}\".format(rmse))\n",
    "    print(\"MAE {}\".format(mae))\n",
    "    print(\"R2 {}\".format(r2))\n",
    "    \n",
    "    return rmse, mae, r2"
   ]
  },
  {
   "cell_type": "code",
   "execution_count": 8,
   "id": "16824d05-665a-43f4-9541-3cd708b97c7d",
   "metadata": {},
   "outputs": [],
   "source": [
    "def download_dataset():\n",
    "    import urllib.request\n",
    "    import zipfile\n",
    "    \n",
    "    url = \"https://archive.ics.uci.edu/static/public/186/wine+quality.zip\"\n",
    "    filename = '.././data/wine.zip'\n",
    "    urllib.request.urlretrieve(url, filename)\n",
    "    \n",
    "    with zipfile.ZipFile(filename, 'r') as zip_ref:\n",
    "        zip_ref.extractall('.././data/')\n"
   ]
  },
  {
   "cell_type": "code",
   "execution_count": 9,
   "id": "cae332e5-763c-4e64-8534-85c853e7312d",
   "metadata": {},
   "outputs": [],
   "source": [
    "def log_params(params):\n",
    "    print(\"Params\")    \n",
    "    for key, value in params.items():        \n",
    "        # Log a parameter (key-value pair)\n",
    "        mlflow.log_param(key, value)\n",
    "        print(\"{}={}\".format(key, value))"
   ]
  },
  {
   "cell_type": "code",
   "execution_count": 10,
   "id": "407ec086-f064-41fd-8a18-9aa50cf7e1c3",
   "metadata": {},
   "outputs": [
    {
     "name": "stdout",
     "output_type": "stream",
     "text": [
      "RMSE 0.7931640229276851\n",
      "MAE 0.6271946374319586\n",
      "R2 0.10862644997792614\n",
      "http://localhost:5000\n",
      "http\n",
      "Params\n",
      "alpha=0.5\n",
      "l1_ratio=0.5\n",
      "random_state=42\n"
     ]
    }
   ],
   "source": [
    "if __name__ == \"__main__\":\n",
    "    warnings.filterwarnings(\"ignore\")\n",
    "    np.random.seed(40)\n",
    "\n",
    "    download_dataset()\n",
    "\n",
    "    try:\n",
    "        data = pd.read_csv(\".././data/winequality-red.csv\", sep=\";\")\n",
    "    except Exception as e:\n",
    "        logger.exception(str(e))\n",
    "\n",
    "    train, test = train_test_split(data)\n",
    "    train_X = train.drop([\"quality\"], axis=1)\n",
    "    train_y = train[[\"quality\"]]\n",
    "\n",
    "    test_X = test.drop([\"quality\"], axis=1)\n",
    "    test_y = test[[\"quality\"]]\n",
    "\n",
    "    params = {\n",
    "        \"alpha\": 0.5,\n",
    "        \"l1_ratio\": 0.5,\n",
    "        \"random_state\": 42\n",
    "    }\n",
    "    \n",
    "    mlflow.set_tracking_uri(\"http://localhost:5000\")\n",
    "    mlflow.set_experiment(\"my-experiment\")\n",
    "    with mlflow.start_run(run_name=\"run_{}\".format(datetime.now())):        \n",
    "        lr = ElasticNet(alpha = params[\"alpha\"], \n",
    "                        l1_ratio = params[\"l1_ratio\"], \n",
    "                        random_state=params[\"random_state\"])\n",
    "        lr.fit(train_X, train_y)\n",
    "        \n",
    "        predicted_qualities = lr.predict(test_X)\n",
    "        (rmse, mae, r2) = eval_metrics(test_y, predicted_qualities)\n",
    "\n",
    "        print(mlflow.get_tracking_uri())\n",
    "        tracking_url_type_store = urlparse(mlflow.get_tracking_uri()).scheme\n",
    "        print(tracking_url_type_store)\n",
    "        \n",
    "        # Log a parameter (key-value pair)\n",
    "        log_params(params)\n",
    "\n",
    "\n",
    "        if tracking_url_type_store == \"file\":\n",
    "            mlflow.sklearn.log_model(lr, \"model\", registered_model_name=\"ElasticWineModel\")\n",
    "        else:\n",
    "            mlflow.sklearn.log_model(lr, \"model\")\n",
    "            \n"
   ]
  }
 ],
 "metadata": {
  "kernelspec": {
   "display_name": "Python 3 (ipykernel)",
   "language": "python",
   "name": "python3"
  },
  "language_info": {
   "codemirror_mode": {
    "name": "ipython",
    "version": 3
   },
   "file_extension": ".py",
   "mimetype": "text/x-python",
   "name": "python",
   "nbconvert_exporter": "python",
   "pygments_lexer": "ipython3",
   "version": "3.10.9"
  }
 },
 "nbformat": 4,
 "nbformat_minor": 5
}
