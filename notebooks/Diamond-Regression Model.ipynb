{
 "cells": [
  {
   "cell_type": "code",
   "execution_count": null,
   "id": "b6cdaba9-6bb8-45c7-b116-2e7581d44486",
   "metadata": {},
   "outputs": [],
   "source": [
    "%%html\n",
    "<style> \n",
    "table { float:left; margin-bottom: 1em; } \n",
    "table + * { content: \"\"; clear: both; display: table; }\n",
    "</style>"
   ]
  },
  {
   "cell_type": "code",
   "execution_count": null,
   "id": "052240c2-ba94-4c97-81cd-3947338b66a2",
   "metadata": {},
   "outputs": [],
   "source": [
    "#!pip install pycaret[analysis,parallel]"
   ]
  },
  {
   "cell_type": "code",
   "execution_count": null,
   "id": "9406fcdd-f8a5-4a7a-b7f5-1e14685d4661",
   "metadata": {},
   "outputs": [],
   "source": [
    "from pycaret import regression"
   ]
  },
  {
   "cell_type": "code",
   "execution_count": null,
   "id": "e74d56b6-a729-40bc-90b5-9b9f6312eb69",
   "metadata": {},
   "outputs": [],
   "source": [
    "from pycaret.datasets import get_data\n",
    "dataset = get_data(\"diamond\")"
   ]
  },
  {
   "cell_type": "code",
   "execution_count": null,
   "id": "2760a2bf-59ab-4ada-a7c0-a4a17a49199e",
   "metadata": {},
   "outputs": [],
   "source": [
    "dataset = get_data(\"diamond\", profile=True)"
   ]
  },
  {
   "cell_type": "code",
   "execution_count": null,
   "id": "c08bdb7b-9382-439d-9fa2-c2be36c77dfa",
   "metadata": {},
   "outputs": [],
   "source": [
    "data = dataset.sample(frac=0.9, random_state=786)"
   ]
  },
  {
   "cell_type": "code",
   "execution_count": null,
   "id": "4e958a02-5386-4552-a108-790ec27b448a",
   "metadata": {},
   "outputs": [],
   "source": [
    "data_unseen = dataset.drop(data.index)"
   ]
  },
  {
   "cell_type": "code",
   "execution_count": null,
   "id": "2af7542b-82e5-4874-8525-0094aacae4b8",
   "metadata": {},
   "outputs": [],
   "source": [
    "data.reset_index(drop=True, inplace=True)\n",
    "data_unseen.reset_index(drop=True, inplace=True)"
   ]
  },
  {
   "cell_type": "code",
   "execution_count": null,
   "id": "f9bd0bfd-7203-4ed0-be96-0276569e8ff7",
   "metadata": {},
   "outputs": [],
   "source": [
    "print(\"Data for Modeling \" + str(data.shape))"
   ]
  },
  {
   "cell_type": "code",
   "execution_count": null,
   "id": "697192f1-f8d3-4322-b678-e9db32742a31",
   "metadata": {},
   "outputs": [],
   "source": [
    "print(\"Unseen Data for Prediction \" + str(data_unseen.shape))"
   ]
  },
  {
   "cell_type": "markdown",
   "id": "729fc759-5a47-4bd7-8edc-92675182b72d",
   "metadata": {},
   "source": [
    "### MLFlow"
   ]
  },
  {
   "cell_type": "code",
   "execution_count": null,
   "id": "8e1e8277-1267-4dfd-a07a-8ac874874201",
   "metadata": {},
   "outputs": [],
   "source": [
    "import mlflow\n",
    "mlflow.set_tracking_uri(\"http://localhost:5000\")"
   ]
  },
  {
   "cell_type": "markdown",
   "id": "a0e9b060-bf06-4fda-9fe9-2d94df954641",
   "metadata": {},
   "source": [
    "### Preprocessing"
   ]
  },
  {
   "cell_type": "code",
   "execution_count": null,
   "id": "ad279641-9753-4b5d-bd3a-969d522c254f",
   "metadata": {},
   "outputs": [],
   "source": [
    "experiment = regression.setup(data = data,\n",
    "                 target = \"Price\",\n",
    "                 session_id = 123,\n",
    "                 normalize = True,\n",
    "                 transformation = True,\n",
    "                 transform_target = True,                 \n",
    "                 remove_multicollinearity = True,\n",
    "                 multicollinearity_threshold = 0.95,\n",
    "                 bin_numeric_features = [\"Carat Weight\"],\n",
    "                 verbose = True, \n",
    "                 use_gpu = True,                 \n",
    "                 log_experiment = True,\n",
    "                 log_plots = True,\n",
    "                 log_data = True,                 \n",
    "                 experiment_name = \"diamond1\"\n",
    "                 )\n",
    "                 "
   ]
  },
  {
   "cell_type": "code",
   "execution_count": null,
   "id": "a7ced3fd-be36-44b9-bc0e-184a93b43199",
   "metadata": {},
   "outputs": [],
   "source": [
    "best_model = regression.compare_models(exclude = [])"
   ]
  },
  {
   "cell_type": "code",
   "execution_count": null,
   "id": "972485dd-344f-45dd-bc5c-ff38a02f1201",
   "metadata": {},
   "outputs": [],
   "source": [
    "tuned_best = regression.tune_model(best_model)"
   ]
  },
  {
   "cell_type": "code",
   "execution_count": null,
   "id": "9a8772f9-fa75-4794-af74-03fc9dc2978f",
   "metadata": {},
   "outputs": [],
   "source": [
    "model = regression.create_model(\"dt\")"
   ]
  },
  {
   "cell_type": "code",
   "execution_count": null,
   "id": "d779902e-5d4b-4db0-b921-5d9b2c6a519d",
   "metadata": {},
   "outputs": [],
   "source": [
    "import numpy as np\n",
    "\n",
    "params = {\n",
    "    # \"n_neighbors\": np.arange(2, 11, 2),\n",
    "    # \"leaf_size\": np.arange(10,40, 5)\n",
    "}\n",
    "\n",
    "tuned_model = regression.tune_model(model)"
   ]
  },
  {
   "cell_type": "markdown",
   "id": "99235e0d-2d50-485a-a882-2656d503bf43",
   "metadata": {},
   "source": [
    "### Evaluate model"
   ]
  },
  {
   "cell_type": "code",
   "execution_count": null,
   "id": "1b6d8c04-e629-4806-bb2d-66a384f4c4bb",
   "metadata": {},
   "outputs": [],
   "source": [
    "regression.plot_model(tuned_model, plot = \"pipeline\")"
   ]
  },
  {
   "cell_type": "code",
   "execution_count": null,
   "id": "bff4d4f7-7fce-4cc4-8e57-00011738a34a",
   "metadata": {},
   "outputs": [],
   "source": [
    "regression.plot_model(tuned_model, plot = \"residuals_interactive\")"
   ]
  },
  {
   "cell_type": "code",
   "execution_count": null,
   "id": "4e70f1de-21c5-4d43-8b59-85526cdff667",
   "metadata": {},
   "outputs": [],
   "source": [
    "regression.plot_model(tuned_model, plot = \"learning\")\n"
   ]
  },
  {
   "cell_type": "code",
   "execution_count": null,
   "id": "c21b7af8-58e0-4a9f-b811-3c9c0f8f1432",
   "metadata": {},
   "outputs": [],
   "source": [
    "regression.plot_model(tuned_model, plot = \"feature\")"
   ]
  },
  {
   "cell_type": "code",
   "execution_count": null,
   "id": "56f55a51-1d27-467f-9d78-0d94abfd9512",
   "metadata": {},
   "outputs": [],
   "source": [
    "regression.plot_model(tuned_model, plot = \"feature_all\")"
   ]
  },
  {
   "cell_type": "code",
   "execution_count": null,
   "id": "8c4fe733-21f3-4de5-80af-559ea9e67604",
   "metadata": {},
   "outputs": [],
   "source": [
    "regression.plot_model(tuned_model, plot = \"parameter\")"
   ]
  },
  {
   "cell_type": "code",
   "execution_count": null,
   "id": "e1e3df95-0219-41a1-892e-78b4476a7abd",
   "metadata": {},
   "outputs": [],
   "source": [
    "#regression.plot_model(tuned_model, plot = \"tree\")"
   ]
  },
  {
   "cell_type": "code",
   "execution_count": null,
   "id": "86d1524d-e2eb-4c5e-b110-9bab82698870",
   "metadata": {},
   "outputs": [],
   "source": [
    "regression.predict_model(tuned_best)"
   ]
  },
  {
   "cell_type": "markdown",
   "id": "2d642201-15bb-418c-a8bb-9edcb041581d",
   "metadata": {},
   "source": [
    "### Finish and Deploy"
   ]
  },
  {
   "cell_type": "code",
   "execution_count": null,
   "id": "fac943fe-a250-41fd-8d1c-a872e31a31c4",
   "metadata": {},
   "outputs": [],
   "source": [
    "final_best = regression.finalize_model(tuned_best)"
   ]
  },
  {
   "cell_type": "code",
   "execution_count": null,
   "id": "77e0978a-5efb-4c27-bca4-f90cc68a1d54",
   "metadata": {},
   "outputs": [],
   "source": [
    "model_output = \".././models/diamond-pipeline\"\n",
    "regression.save_model(final_best, model_output)"
   ]
  },
  {
   "cell_type": "markdown",
   "id": "480e6676-fc76-4326-a8b9-08e437076ee6",
   "metadata": {},
   "source": [
    "### Consume Model (Pycaret)"
   ]
  },
  {
   "cell_type": "code",
   "execution_count": null,
   "id": "5f897ce3-bfbb-49a6-ba74-a8c9ac1639b9",
   "metadata": {},
   "outputs": [],
   "source": [
    "model = regression.load_model(model_output)"
   ]
  },
  {
   "cell_type": "code",
   "execution_count": null,
   "id": "8c35224c-2244-492b-9d22-007374ac2b40",
   "metadata": {},
   "outputs": [],
   "source": [
    "print(model)"
   ]
  },
  {
   "cell_type": "code",
   "execution_count": null,
   "id": "e845f768-ac7f-4943-a270-537026b98444",
   "metadata": {},
   "outputs": [],
   "source": [
    "predictions = regression.predict_model(model, data=data_unseen)"
   ]
  },
  {
   "cell_type": "code",
   "execution_count": null,
   "id": "cce903d8-8658-42c2-98d2-53cfbec2519d",
   "metadata": {},
   "outputs": [],
   "source": [
    "predictions.head()"
   ]
  },
  {
   "cell_type": "code",
   "execution_count": null,
   "id": "9687d8c3-2052-4d29-9e5e-5a49965018bb",
   "metadata": {},
   "outputs": [],
   "source": [
    "from pycaret.utils.generic import check_metric"
   ]
  },
  {
   "cell_type": "code",
   "execution_count": null,
   "id": "9082ac70-79df-4ea8-8e84-795f17e48aa8",
   "metadata": {},
   "outputs": [],
   "source": [
    "check_metric(predictions.Price, predictions.prediction_label, \"R2\")"
   ]
  },
  {
   "cell_type": "code",
   "execution_count": null,
   "id": "33eb18c2-598b-4e51-946f-e81a37d62e0c",
   "metadata": {},
   "outputs": [],
   "source": [
    "# Loading full path \n",
    "pipeline = regression.load_model(\"/home/ac/projects/mlops_bootcamp/mlartifacts/143810263215121988/eefdfe7972c640a3b193fe3f49f9bc18/artifacts/model/model\")"
   ]
  },
  {
   "cell_type": "code",
   "execution_count": null,
   "id": "072f1a16-0817-4eff-9ca7-f7766432dfd9",
   "metadata": {},
   "outputs": [],
   "source": [
    "print(pipeline)"
   ]
  },
  {
   "cell_type": "markdown",
   "id": "4f9500a5-2f60-47b7-b205-e9eff54d3bf1",
   "metadata": {},
   "source": [
    "### Consume Model (MLFlow)"
   ]
  },
  {
   "cell_type": "code",
   "execution_count": null,
   "id": "4bcb0a1c-9a3b-4a1c-a132-c39bd3644e38",
   "metadata": {},
   "outputs": [],
   "source": [
    "new_data = data_unseen.drop([\"Price\"], axis=1)"
   ]
  },
  {
   "cell_type": "code",
   "execution_count": null,
   "id": "129c4019-d0c9-4d02-8197-9125de3a49da",
   "metadata": {},
   "outputs": [],
   "source": [
    "import mlflow\n",
    "logged_model = 'runs:/eefdfe7972c640a3b193fe3f49f9bc18/model'\n",
    "\n",
    "# Load model as a PyFuncModel.\n",
    "model = mlflow.pyfunc.load_model(logged_model)"
   ]
  },
  {
   "cell_type": "code",
   "execution_count": null,
   "id": "29c5f0da-9d12-4d2f-9fcf-75e7c1639c10",
   "metadata": {},
   "outputs": [],
   "source": [
    "print(model)"
   ]
  },
  {
   "cell_type": "code",
   "execution_count": null,
   "id": "b414c8b2-73b4-44b6-8124-b00beed07f33",
   "metadata": {},
   "outputs": [],
   "source": [
    "# Predict on a Pandas DataFrame.\n",
    "import pandas as pd\n",
    "predictions = model.predict(pd.DataFrame(new_data))\n",
    "predictions"
   ]
  }
 ],
 "metadata": {
  "kernelspec": {
   "display_name": "Python 3 (ipykernel)",
   "language": "python",
   "name": "python3"
  },
  "language_info": {
   "codemirror_mode": {
    "name": "ipython",
    "version": 3
   },
   "file_extension": ".py",
   "mimetype": "text/x-python",
   "name": "python",
   "nbconvert_exporter": "python",
   "pygments_lexer": "ipython3",
   "version": "3.10.12"
  }
 },
 "nbformat": 4,
 "nbformat_minor": 5
}
